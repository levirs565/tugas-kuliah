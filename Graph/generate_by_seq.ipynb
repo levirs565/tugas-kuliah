{
 "cells": [
  {
   "cell_type": "code",
   "execution_count": 43,
   "metadata": {},
   "outputs": [
    {
     "name": "stdout",
     "output_type": "stream",
     "text": [
      "True\n",
      "Configuration model\n",
      "0: 4\n",
      "1: 3\n",
      "2: 3\n",
      "3: 3\n",
      "4: 2\n",
      "5: 2\n",
      "6: 2\n",
      "7: 1\n",
      "8: 0\n"
     ]
    }
   ],
   "source": [
    "import networkx as nx\n",
    "from networkx.drawing.nx_agraph import write_dot\n",
    "\n",
    "z = [4, 3, 3, 3, 2, 2, 2, 1, 0]\n",
    "print(nx.is_graphical(z))\n",
    "\n",
    "print(\"Configuration model\")\n",
    "G = nx.configuration_model(\n",
    "    z,\n",
    ")  # configuration model, seed for reproducibility\n",
    "\n",
    "for n, d in G.degree():\n",
    "    print(f\"{n}: {d}\")\n",
    "\n",
    "write_dot(G,'multi.dot')\n",
    "!neato -T png multi.dot > multi.png"
   ]
  }
 ],
 "metadata": {
  "kernelspec": {
   "display_name": "Python 3",
   "language": "python",
   "name": "python3"
  },
  "language_info": {
   "codemirror_mode": {
    "name": "ipython",
    "version": 3
   },
   "file_extension": ".py",
   "mimetype": "text/x-python",
   "name": "python",
   "nbconvert_exporter": "python",
   "pygments_lexer": "ipython3",
   "version": "3.11.6"
  }
 },
 "nbformat": 4,
 "nbformat_minor": 2
}
